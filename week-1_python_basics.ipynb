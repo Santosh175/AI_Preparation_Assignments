{
 "cells": [
  {
   "cell_type": "markdown",
   "id": "92d36ca0-8c90-4b1e-9983-321d1e549091",
   "metadata": {},
   "source": [
    "# Solve these problems\r\n",
    "\r\n",
    "1. Sum of Natural Numbers ( 0 to 10 ).\r\n",
    "2. Count digits example -> x= 3459 , output= 4\r\n",
    "3. Check palindrome - > x= 989 , output = yes\r\n",
    "4. Factorial of a number -> x= 5! output = 120 120"
   ]
  },
  {
   "cell_type": "markdown",
   "id": "82f7dd01-3bd2-4b34-9b90-80343d63241f",
   "metadata": {},
   "source": [
    "# 1. Sum of Natural Numbers ( 0 to 10 )."
   ]
  },
  {
   "cell_type": "code",
   "execution_count": 23,
   "id": "11e42c5e-e5c4-4683-a464-963a43027692",
   "metadata": {},
   "outputs": [
    {
     "name": "stdout",
     "output_type": "stream",
     "text": [
      "55\n"
     ]
    }
   ],
   "source": [
    "def natural_num_sum(n):\n",
    "    sum=0\n",
    "    for i in range(n+1):\n",
    "        sum = sum +i \n",
    "    \n",
    "    return sum\n",
    "\n",
    "print(natural_num_sum(10))"
   ]
  },
  {
   "cell_type": "markdown",
   "id": "d6c9f41d-b375-4971-bbaf-47acf2cafed0",
   "metadata": {},
   "source": [
    "# 2. Count digits example -> x= 3459 , output= 4"
   ]
  },
  {
   "cell_type": "code",
   "execution_count": 27,
   "id": "5b948561-4ef7-4464-80fa-8f78e8cf8c85",
   "metadata": {},
   "outputs": [
    {
     "name": "stdout",
     "output_type": "stream",
     "text": [
      "4\n"
     ]
    }
   ],
   "source": [
    "\n",
    "def no_of_digit(x):\n",
    "  count = 0\n",
    "  while x != 0:\n",
    "    x //= 10\n",
    "    count += 1\n",
    "  return count\n",
    "\n",
    "x = 3459\n",
    "print(no_of_digit(x))"
   ]
  },
  {
   "cell_type": "markdown",
   "id": "2ec68188-a153-4096-958d-65cb7dada70c",
   "metadata": {},
   "source": [
    "# 3. Check palindrome - > x= 989 , output = yes\n"
   ]
  },
  {
   "cell_type": "code",
   "execution_count": 37,
   "id": "cdd2dacd-620d-4ab7-9f43-8734986eafb2",
   "metadata": {},
   "outputs": [
    {
     "name": "stdin",
     "output_type": "stream",
     "text": [
      "Enter a string:  989\n"
     ]
    },
    {
     "name": "stdout",
     "output_type": "stream",
     "text": [
      "yes\n"
     ]
    }
   ],
   "source": [
    "string = input(\"Enter a string: \")\n",
    "if string == string[::-1]:\n",
    "    print(\"yes\")\n",
    "else:\n",
    "    print(\"No\")\n"
   ]
  },
  {
   "cell_type": "markdown",
   "id": "6ccb93fd-81c2-49e4-8f82-f7fb819c5de3",
   "metadata": {},
   "source": [
    "# 4. Factorial of a number -> x= 5! output = 120"
   ]
  },
  {
   "cell_type": "code",
   "execution_count": 44,
   "id": "741dd1a2-cc6b-497a-9ff8-b53157cb4002",
   "metadata": {},
   "outputs": [
    {
     "name": "stdout",
     "output_type": "stream",
     "text": [
      "120\n"
     ]
    }
   ],
   "source": [
    "def factorial(n):\n",
    "    if(n==0):\n",
    "        return 1\n",
    "    else:\n",
    "        return n*factorial(n-1)\n",
    "\n",
    "print(factorial(5))"
   ]
  },
  {
   "cell_type": "code",
   "execution_count": null,
   "id": "d7d90003-63b6-4241-918e-96e00ca1a5e3",
   "metadata": {},
   "outputs": [],
   "source": []
  }
 ],
 "metadata": {
  "kernelspec": {
   "display_name": "Python 3 (ipykernel)",
   "language": "python",
   "name": "python3"
  },
  "language_info": {
   "codemirror_mode": {
    "name": "ipython",
    "version": 3
   },
   "file_extension": ".py",
   "mimetype": "text/x-python",
   "name": "python",
   "nbconvert_exporter": "python",
   "pygments_lexer": "ipython3",
   "version": "3.12.4"
  }
 },
 "nbformat": 4,
 "nbformat_minor": 5
}
